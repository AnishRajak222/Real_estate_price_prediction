{
 "cells": [
  {
   "cell_type": "code",
   "execution_count": 1,
   "id": "cc024762-852c-4647-981e-6c4560e9e23c",
   "metadata": {},
   "outputs": [],
   "source": [
    "from joblib import dump, load\n",
    "import numpy as np\n",
    "model = load('RealEstate.joblib')"
   ]
  },
  {
   "cell_type": "code",
   "execution_count": 13,
   "id": "a03b234d-63e9-4cef-a93e-c0ead4926423",
   "metadata": {},
   "outputs": [
    {
     "data": {
      "text/plain": [
       "array([13.532])"
      ]
     },
     "execution_count": 13,
     "metadata": {},
     "output_type": "execute_result"
    }
   ],
   "source": [
    "input = np.array([[ 999.48770177, -99.70032012,  5.03323679, -99.17808871,  0.38925206,\n",
    "       -11.42863554,  1.02801516, -9.80217296,  9.90689143,  33.57843444,\n",
    "        0.84534281, -0.907433689,  8.75350503]])\n",
    "model.predict(input)\n"
   ]
  },
  {
   "cell_type": "code",
   "execution_count": null,
   "id": "12a457de-fb9e-40ca-a2d5-e8efda5fdb62",
   "metadata": {},
   "outputs": [],
   "source": []
  }
 ],
 "metadata": {
  "kernelspec": {
   "display_name": "Python 3 (ipykernel)",
   "language": "python",
   "name": "python3"
  },
  "language_info": {
   "codemirror_mode": {
    "name": "ipython",
    "version": 3
   },
   "file_extension": ".py",
   "mimetype": "text/x-python",
   "name": "python",
   "nbconvert_exporter": "python",
   "pygments_lexer": "ipython3",
   "version": "3.10.7"
  }
 },
 "nbformat": 4,
 "nbformat_minor": 5
}
